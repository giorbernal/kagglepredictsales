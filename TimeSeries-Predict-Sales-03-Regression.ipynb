{
 "cells": [
  {
   "cell_type": "code",
   "execution_count": null,
   "metadata": {},
   "outputs": [],
   "source": [
    "import numpy as np\n",
    "import pandas as pd\n",
    "import matplotlib.pyplot as plt\n",
    "import seaborn as sns\n",
    "%matplotlib inline"
   ]
  },
  {
   "cell_type": "code",
   "execution_count": null,
   "metadata": {},
   "outputs": [],
   "source": [
    "from utils.PredictSalesUtils import cleanStackingDataset"
   ]
  },
  {
   "cell_type": "code",
   "execution_count": null,
   "metadata": {},
   "outputs": [],
   "source": [
    "import gc"
   ]
  },
  {
   "cell_type": "code",
   "execution_count": null,
   "metadata": {},
   "outputs": [],
   "source": [
    "from sklearn.preprocessing import MinMaxScaler\n",
    "from sklearn.externals import joblib"
   ]
  },
  {
   "cell_type": "code",
   "execution_count": null,
   "metadata": {},
   "outputs": [],
   "source": [
    "import sys\n",
    "sys.path.append('../dsbase/src/main')"
   ]
  },
  {
   "cell_type": "code",
   "execution_count": null,
   "metadata": {},
   "outputs": [],
   "source": [
    "from sklearn.model_selection import train_test_split\n",
    "from dsbase.ModelDSBase import ModelDSBaseWrapper"
   ]
  },
  {
   "cell_type": "code",
   "execution_count": null,
   "metadata": {},
   "outputs": [],
   "source": [
    "from dsbase.models.regression.LightGradientBoostingRegressionDSBase import LightGradientBoostingRegressionDSBaseModel\n",
    "from dsbase.models.regression.LightGradientBoostingRegressionDSBase import LightGradientBoostingRegressionDSBaseModelParamsToMap"
   ]
  },
  {
   "cell_type": "code",
   "execution_count": null,
   "metadata": {},
   "outputs": [],
   "source": [
    "from dsbase.models.regression.DNNRegressionKerasDSBase import DNNRegressionKerasDSBaseModel\n",
    "from dsbase.models.regression.DNNRegressionKerasDSBase import DNNRegressionKerasDSBaseParamsToMap"
   ]
  },
  {
   "cell_type": "markdown",
   "metadata": {},
   "source": [
    "# Ensembling - Stacking"
   ]
  },
  {
   "cell_type": "markdown",
   "metadata": {},
   "source": [
    "## Phase 1 (LightGB for each 1/2 dataset)"
   ]
  },
  {
   "cell_type": "code",
   "execution_count": null,
   "metadata": {},
   "outputs": [],
   "source": [
    "def getXy(databaseName):\n",
    "    df = pd.read_csv('datasets/' + databaseName + '_cleaned.csv')\n",
    "    df.drop(['Unnamed: 0','Unnamed: 0.1','slot'], inplace=True, axis=1)\n",
    "    df.set_index(keys='ID_pair',inplace=True)\n",
    "    \n",
    "    X = df.drop(labels=['target_imputed'], axis=1).values\n",
    "    y = df['target_imputed'].values\n",
    "    \n",
    "    X_train, X_test, y_train, y_test = train_test_split(X, y, test_size=0.33, random_state=42)\n",
    "    return X_train, X_test, y_train, y_test"
   ]
  },
  {
   "cell_type": "code",
   "execution_count": null,
   "metadata": {},
   "outputs": [],
   "source": [
    "# params: [reg_alpha, reg_lambda]\n",
    "def processModel(X_train, X_test, y_train, y_test, modelName, params, perc=[100]):\n",
    "    print('generating model',modelName,'...')\n",
    "\n",
    "    params = LightGradientBoostingRegressionDSBaseModelParamsToMap(max_depth=31, n_estimators=100, learning_rate=0.1,num_leaves=31, subsample_for_bin=200000, reg_alpha=params[0], reg_lambda=params[1])\n",
    "    lgbr = ModelDSBaseWrapper(modelName,X_train,y_train,X_test, y_test,perc,LightGradientBoostingRegressionDSBaseModel,params)\n",
    "    lgbr.train()\n",
    "    lclgdbr=lgbr.getLearningCurves()\n",
    "    \n",
    "    overfitting_rate = lclgdbr[1,-1]/lclgdbr[0,-1]\n",
    "    score = lgbr.getScore()\n",
    "    print('Score for',modelName,lgbr.getScore(),'(',overfitting_rate,')')\n",
    "    return lgbr, overfitting_rate, score, lclgdbr"
   ]
  },
  {
   "cell_type": "markdown",
   "metadata": {},
   "source": [
    "Let's calculate the models: "
   ]
  },
  {
   "cell_type": "code",
   "execution_count": null,
   "metadata": {},
   "outputs": [],
   "source": [
    "# Completed Set\n",
    "dataset = ['dataset1A','dataset2A','dataset3A','dataset4A','dataset5A','dataset6A']\n",
    "model = ['model1A','model2A','model3A','model4A','model5A','model6A']\n",
    "params = [[3000,25],[2500,25],[2000,15],[1000,15],[100,10],[0,10]]\n",
    "#scores = [0.7114320203335709 ( 0.9036347645739408 ), 0.7017113534310703 ( 0.8691804015123732 ), 0.6440095888038557 ( 0.8363979013208283 )\n",
    "#          0.5942881438165505 ( 0.7507641992157429 ), 0.5763562599461289 ( 0.8655557217963179 ), 0.5480502465067804 ( 0.9972860257205527 )]\n",
    "perc = [100]\n",
    "\n",
    "# Searching params Set\n",
    "#dataset = ['dataset4A']\n",
    "#model = ['model4A']\n",
    "#params = [[5000,50]]\n",
    "#perc=[20,60,100]"
   ]
  },
  {
   "cell_type": "code",
   "execution_count": null,
   "metadata": {},
   "outputs": [],
   "source": [
    "models = []\n",
    "ofrs = []\n",
    "scores = []\n",
    "lcs = []\n",
    "for d, m, p in zip (dataset,model,params):\n",
    "    X_train, X_test, y_train, y_test = getXy(d)\n",
    "    model, ofr, score,lc = processModel(X_train, X_test, y_train, y_test,m,p,perc)\n",
    "    gc.collect()\n",
    "    models.append(model)\n",
    "    ofrs.append(ofr)\n",
    "    scores.append(score)\n",
    "    lcs.append(lc)"
   ]
  },
  {
   "cell_type": "code",
   "execution_count": null,
   "metadata": {},
   "outputs": [],
   "source": [
    "#plt.plot(lc[0,:],'b',lc[1,:],'r')"
   ]
  },
  {
   "cell_type": "markdown",
   "metadata": {},
   "source": [
    "Let's store them: "
   ]
  },
  {
   "cell_type": "code",
   "execution_count": null,
   "metadata": {},
   "outputs": [],
   "source": [
    "for m in models:\n",
    "    m.save()"
   ]
  },
  {
   "cell_type": "markdown",
   "metadata": {},
   "source": [
    "## Phase 2 (NN for the 1/2 processed dataset)"
   ]
  },
  {
   "cell_type": "markdown",
   "metadata": {},
   "source": [
    "\n",
    "### Generating 2º dataset processing datasetXB in the previous models"
   ]
  },
  {
   "cell_type": "markdown",
   "metadata": {},
   "source": [
    "First, let's calculate the pre-stacking dataset: "
   ]
  },
  {
   "cell_type": "code",
   "execution_count": null,
   "metadata": {},
   "outputs": [],
   "source": [
    "def getPreStackingDataset(dataset, model):\n",
    "    df = pd.read_csv('datasets/' + dataset + 'B_cleaned.csv')\n",
    "    df.drop(['Unnamed: 0','Unnamed: 0.1'], inplace=True, axis=1)\n",
    "    df.set_index(keys=['ID_pair'], inplace=True)\n",
    "\n",
    "    X = df.drop(labels=['target_imputed'], axis=1).values\n",
    "\n",
    "    model = LightGradientBoostingRegressionDSBaseModel(model + '0')\n",
    "    model.load()\n",
    "    y_pred = model.predict(X)\n",
    "\n",
    "    df_pred = pd.DataFrame(data=y_pred,columns=['target_predicted'])\n",
    "    df_pre_stacking = pd.concat(objs=[df.reset_index(),df_pred], axis=1)\n",
    "    df_pre_stacking_filtered = df_pre_stacking.set_index(keys=['ID_pair','slot'])[['target_imputed','target_predicted']]\n",
    "    return df_pre_stacking_filtered"
   ]
  },
  {
   "cell_type": "code",
   "execution_count": null,
   "metadata": {},
   "outputs": [],
   "source": [
    "df1 = getPreStackingDataset('dataset1','model1A')"
   ]
  },
  {
   "cell_type": "code",
   "execution_count": null,
   "metadata": {},
   "outputs": [],
   "source": [
    "df2 = getPreStackingDataset('dataset2','model2A')"
   ]
  },
  {
   "cell_type": "code",
   "execution_count": null,
   "metadata": {},
   "outputs": [],
   "source": [
    "df3 = getPreStackingDataset('dataset3','model3A')"
   ]
  },
  {
   "cell_type": "code",
   "execution_count": null,
   "metadata": {},
   "outputs": [],
   "source": [
    "df4 = getPreStackingDataset('dataset4','model4A')"
   ]
  },
  {
   "cell_type": "code",
   "execution_count": null,
   "metadata": {},
   "outputs": [],
   "source": [
    "df5 = getPreStackingDataset('dataset5','model5A')"
   ]
  },
  {
   "cell_type": "code",
   "execution_count": null,
   "metadata": {},
   "outputs": [],
   "source": [
    "df6 = getPreStackingDataset('dataset6','model6A')"
   ]
  },
  {
   "cell_type": "markdown",
   "metadata": {},
   "source": [
    "Now, let's calculate the real stacking dataset:"
   ]
  },
  {
   "cell_type": "code",
   "execution_count": null,
   "metadata": {},
   "outputs": [],
   "source": [
    "df1_target = df1.reset_index()\n",
    "df2_target = df2.reset_index()\n",
    "df3_target = df3.reset_index()\n",
    "df4_target = df4.reset_index()\n",
    "df5_target = df5.reset_index()\n",
    "df6_target = df6.reset_index()"
   ]
  },
  {
   "cell_type": "code",
   "execution_count": null,
   "metadata": {},
   "outputs": [],
   "source": [
    "df_for_stacking = df1_target.merge(\n",
    "    right=df2_target, on=['ID_pair','slot'],how='outer', suffixes=('_1','_2')\n",
    ").merge(\n",
    "    right=df3_target, on=['ID_pair','slot'],how='outer'\n",
    ").merge(\n",
    "    right=df4_target, on=['ID_pair','slot'],how='outer', suffixes=('_3','_4')\n",
    ").merge(\n",
    "    right=df5_target, on=['ID_pair','slot'],how='outer'\n",
    ").merge(\n",
    "    right=df6_target, on=['ID_pair','slot'],how='outer', suffixes=('_5','_6')\n",
    ")"
   ]
  },
  {
   "cell_type": "code",
   "execution_count": null,
   "metadata": {},
   "outputs": [],
   "source": [
    "df_for_stacking.set_index(keys=['ID_pair','slot'], inplace=True)"
   ]
  },
  {
   "cell_type": "code",
   "execution_count": null,
   "metadata": {},
   "outputs": [],
   "source": [
    "# 4 minutes in process\n",
    "df_for_stacking['target'] = df_for_stacking[['target_imputed_1','target_imputed_2','target_imputed_3','target_imputed_4','target_imputed_5','target_imputed_6']].apply(lambda x: max([0 if math.isnan(i) else i for i in x]),axis=1)"
   ]
  },
  {
   "cell_type": "code",
   "execution_count": null,
   "metadata": {},
   "outputs": [],
   "source": [
    "df_for_stacking.drop(labels=['target_imputed_1','target_imputed_2','target_imputed_3','target_imputed_4','target_imputed_5','target_imputed_6'], inplace=True, axis=1)"
   ]
  },
  {
   "cell_type": "markdown",
   "metadata": {},
   "source": [
    "### Cleaning 2º phase dataset "
   ]
  },
  {
   "cell_type": "code",
   "execution_count": null,
   "metadata": {},
   "outputs": [],
   "source": [
    "#sns.heatmap(~df_for_stacking.isna())"
   ]
  },
  {
   "cell_type": "code",
   "execution_count": null,
   "metadata": {},
   "outputs": [],
   "source": [
    "df_for_stacking_cleaned = cleanStackingDataset(df_for_stacking,['target_predicted_1','target_predicted_2','target_predicted_3','target_predicted_4','target_predicted_5','target_predicted_6'])"
   ]
  },
  {
   "cell_type": "code",
   "execution_count": null,
   "metadata": {},
   "outputs": [],
   "source": [
    "#sns.heatmap(~df_for_stacking_cleaned.isna())"
   ]
  },
  {
   "cell_type": "code",
   "execution_count": null,
   "metadata": {},
   "outputs": [],
   "source": [
    "df_for_stacking_cleaned.to_csv('datasets/dataset_for_stacking_cleaned.csv')"
   ]
  },
  {
   "cell_type": "markdown",
   "metadata": {},
   "source": [
    "### NN Model "
   ]
  },
  {
   "cell_type": "code",
   "execution_count": null,
   "metadata": {},
   "outputs": [],
   "source": [
    "dfdnn = pd.read_csv('datasets/dataset_for_stacking_cleaned.csv')"
   ]
  },
  {
   "cell_type": "code",
   "execution_count": null,
   "metadata": {},
   "outputs": [],
   "source": [
    "dfdnn.info()"
   ]
  },
  {
   "cell_type": "code",
   "execution_count": null,
   "metadata": {},
   "outputs": [],
   "source": [
    "dfdnn.set_index(keys=['ID_pair','slot'], inplace=True)"
   ]
  },
  {
   "cell_type": "code",
   "execution_count": null,
   "metadata": {},
   "outputs": [],
   "source": [
    "X = dfdnn.drop(labels=['target'], axis=1).values\n",
    "y = dfdnn['target'].values.reshape(-1,1)  "
   ]
  },
  {
   "cell_type": "code",
   "execution_count": null,
   "metadata": {},
   "outputs": [],
   "source": [
    "scalerX = MinMaxScaler()\n",
    "X_s = scalerX.fit_transform(X)\n",
    "scalery = MinMaxScaler()\n",
    "y_s = scalery.fit_transform(y)"
   ]
  },
  {
   "cell_type": "code",
   "execution_count": null,
   "metadata": {},
   "outputs": [],
   "source": [
    "X_train, X_test, y_train, y_test = train_test_split(X_s, y_s, test_size=0.33, random_state=42)"
   ]
  },
  {
   "cell_type": "code",
   "execution_count": null,
   "metadata": {},
   "outputs": [],
   "source": [
    "perc = [25,50,75,100]"
   ]
  },
  {
   "cell_type": "code",
   "execution_count": null,
   "metadata": {},
   "outputs": [],
   "source": [
    "params = DNNRegressionKerasDSBaseParamsToMap(layers=[12,8,4], alpha=0.01, batch_size=64, epochs=10)\n",
    "dnn = ModelDSBaseWrapper('DNN',X_train,y_train,X_test, y_test,perc,DNNRegressionKerasDSBaseModel,params)"
   ]
  },
  {
   "cell_type": "code",
   "execution_count": null,
   "metadata": {},
   "outputs": [],
   "source": [
    "dnn.train()"
   ]
  },
  {
   "cell_type": "code",
   "execution_count": null,
   "metadata": {},
   "outputs": [],
   "source": [
    "dnnlc=dnn.getLearningCurves()"
   ]
  },
  {
   "cell_type": "code",
   "execution_count": null,
   "metadata": {},
   "outputs": [],
   "source": [
    "plt.plot(dnnlc[0,:],'b',dnnlc[1,:],'r')"
   ]
  },
  {
   "cell_type": "code",
   "execution_count": null,
   "metadata": {},
   "outputs": [],
   "source": [
    "dnn.save()"
   ]
  },
  {
   "cell_type": "code",
   "execution_count": null,
   "metadata": {},
   "outputs": [],
   "source": [
    "joblib.dump(scalerX,'model_persistance/dnn_scalerX.sav')"
   ]
  },
  {
   "cell_type": "code",
   "execution_count": null,
   "metadata": {},
   "outputs": [],
   "source": [
    "joblib.dump(scalery,'model_persistance/dnn_scalery.sav')"
   ]
  },
  {
   "cell_type": "markdown",
   "metadata": {},
   "source": [
    "# End of Case! "
   ]
  },
  {
   "cell_type": "code",
   "execution_count": null,
   "metadata": {},
   "outputs": [],
   "source": []
  }
 ],
 "metadata": {
  "kernelspec": {
   "display_name": "Python 3",
   "language": "python",
   "name": "python3"
  },
  "language_info": {
   "codemirror_mode": {
    "name": "ipython",
    "version": 3
   },
   "file_extension": ".py",
   "mimetype": "text/x-python",
   "name": "python",
   "nbconvert_exporter": "python",
   "pygments_lexer": "ipython3",
   "version": "3.6.3"
  }
 },
 "nbformat": 4,
 "nbformat_minor": 2
}
